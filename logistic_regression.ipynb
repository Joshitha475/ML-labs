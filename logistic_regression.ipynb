{
  "nbformat": 4,
  "nbformat_minor": 0,
  "metadata": {
    "colab": {
      "provenance": [],
      "authorship_tag": "ABX9TyPgahbaFByDP01q31N3QnGb",
      "include_colab_link": true
    },
    "kernelspec": {
      "name": "python3",
      "display_name": "Python 3"
    },
    "language_info": {
      "name": "python"
    }
  },
  "cells": [
    {
      "cell_type": "markdown",
      "metadata": {
        "id": "view-in-github",
        "colab_type": "text"
      },
      "source": [
        "<a href=\"https://colab.research.google.com/github/Joshitha475/ML-labs/blob/main/logistic_regression.ipynb\" target=\"_parent\"><img src=\"https://colab.research.google.com/assets/colab-badge.svg\" alt=\"Open In Colab\"/></a>"
      ]
    },
    {
      "cell_type": "code",
      "execution_count": 7,
      "metadata": {
        "colab": {
          "base_uri": "https://localhost:8080/"
        },
        "id": "UYOU7EyBuQCa",
        "outputId": "c52c3658-aab9-48b2-f0f9-e07d6cce2628"
      },
      "outputs": [
        {
          "output_type": "stream",
          "name": "stdout",
          "text": [
            "                                              Review     label\n",
            "0  up to this point i ’ ve mostly been using chat...  NEGATIVE\n",
            "1  i ’ ve been a user since it ’ s initial roll o...  NEGATIVE\n",
            "2  this app would almost be perfect if it wasn ’ ...  NEGATIVE\n",
            "3  i recently downloaded the app and overall, it'...  POSITIVE\n",
            "4  i appreciate the devs implementing siri suppor...  NEGATIVE\n",
            "Accuracy: 0.7712418300653595\n",
            "Classification Report:\n",
            "              precision    recall  f1-score   support\n",
            "\n",
            "           0       0.74      0.90      0.81       251\n",
            "           1       0.84      0.62      0.71       208\n",
            "\n",
            "    accuracy                           0.77       459\n",
            "   macro avg       0.79      0.76      0.76       459\n",
            "weighted avg       0.78      0.77      0.77       459\n",
            "\n"
          ]
        }
      ],
      "source": [
        "# Import necessary libraries\n",
        "import pandas as pd\n",
        "from sklearn.model_selection import train_test_split\n",
        "from sklearn.feature_extraction.text import TfidfVectorizer\n",
        "from sklearn.linear_model import LogisticRegression\n",
        "from sklearn.metrics import classification_report, accuracy_score\n",
        "\n",
        "# Load the dataset\n",
        "file_path = '/content/CHATGPT.csv'  # Adjust the path if needed\n",
        "data = pd.read_csv(file_path)\n",
        "\n",
        "# Preview the dataset\n",
        "print(data.head())\n",
        "\n",
        "# Text preprocessing with TF-IDF\n",
        "tfidf = TfidfVectorizer(stop_words='english', max_features=5000)\n",
        "\n",
        "# Features and target\n",
        "X = tfidf.fit_transform(data['Review'].values.astype('U'))  # Convert to Unicode in case of any non-standard characters\n",
        "y = data['label'].apply(lambda x: 1 if x == 'POSITIVE' else 0)  # Binary encoding of labels\n",
        "\n",
        "# Split the data into training and testing sets\n",
        "X_train, X_test, y_train, y_test = train_test_split(X, y, test_size=0.2, random_state=42)\n",
        "\n",
        "# Initialize the Logistic Regression model\n",
        "model = LogisticRegression()\n",
        "\n",
        "# Train the model\n",
        "model.fit(X_train, y_train)\n",
        "\n",
        "# Predictions on the test set\n",
        "y_pred = model.predict(X_test)\n",
        "\n",
        "# Evaluation metrics\n",
        "print(\"Accuracy:\", accuracy_score(y_test, y_pred))\n",
        "print(\"Classification Report:\")\n",
        "print(classification_report(y_test, y_pred))\n",
        "\n"
      ]
    }
  ]
}